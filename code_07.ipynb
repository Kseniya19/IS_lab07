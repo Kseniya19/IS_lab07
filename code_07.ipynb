{
 "cells": [
  {
   "cell_type": "code",
   "execution_count": 123,
   "id": "54d812c1-949a-4ddc-8145-41cff645914d",
   "metadata": {},
   "outputs": [],
   "source": [
    "import string\n",
    "import random"
   ]
  },
  {
   "cell_type": "code",
   "execution_count": 124,
   "id": "66f47cf2-b578-4b41-9f05-18ace4733686",
   "metadata": {},
   "outputs": [],
   "source": [
    "def fun_1(text):\n",
    "    return ' '.join(hex(ord(i))[2:] for i in text)\n",
    "\n",
    "def fun_2(size):\n",
    "    return ''.join(random.choice(string.ascii_letters+string.digits) for _ in range(size))\n",
    "\n",
    "def fun_3(text, key):\n",
    "    return ''.join(chr(a^b) for a, b in zip(text, key))\n",
    "\n",
    "def fun_4(text, encr):\n",
    "    return ''.join(chr(a^b) for a, b in zip(text, encr))"
   ]
  },
  {
   "cell_type": "code",
   "execution_count": 365,
   "id": "ff6a2721-4e42-40b5-8d72-076128b36540",
   "metadata": {},
   "outputs": [
    {
     "name": "stdout",
     "output_type": "stream",
     "text": [
      "Исходное сообщение:  С Новым Годом, друзья!\n",
      "Сгенерированный ключ:  kBs1gtkXKjvGD1MxT7Wwuh\n",
      "Ключ в шестнадцатиричном виде:  6b 42 73 31 67 74 6b 58 4b 6a 76 47 44 31 4d 78 54 37 57 77 75 68\n",
      "Текст в зашифрованном виде:  44a 62 46e 40f 455 43f 457 78 458 454 442 479 478 1d 6d 44c 414 474 460 43b 43a 49\n",
      "Расшифрованное сообщение:  С Новым Годом, друзья!\n"
     ]
    }
   ],
   "source": [
    "message = 'С Новым Годом, друзья!'\n",
    "print(\"Исходное сообщение: \", message)\n",
    "\n",
    "key = fun_2(len(message))\n",
    "key_16 = fun_1(key)\n",
    "print(\"Сгенерированный ключ: \", key)\n",
    "print(\"Ключ в шестнадцатиричном виде: \", key_16)\n",
    "\n",
    "encr = fun_3([ord(i) for i in message], [ord(i) for i in key])\n",
    "encr_16 = fun_1(encr)\n",
    "print(\"Текст в зашифрованном виде: \", encr_16)\n",
    "decr = fun_3([ord(i) for i in encr], [ord(i) for i in key])\n",
    "print(\"Расшифрованное сообщение: \", decr)"
   ]
  },
  {
   "cell_type": "code",
   "execution_count": 366,
   "id": "4e176f67-b894-4e32-be2f-8de6a8767554",
   "metadata": {},
   "outputs": [
    {
     "name": "stdout",
     "output_type": "stream",
     "text": [
      "Подобранный ключ:  kBs1gtkXKjvGD1MxT7Wwuh\n",
      "Вариант прочтения открытого текста:  С Новым Годом, друзья!\n"
     ]
    }
   ],
   "source": [
    "ident_key = fun_4([ord(i) for i in message], [ord(i) for i in encr])\n",
    "decr_ident_key = fun_3([ord(i) for i in encr], [ord(i) for i in key])\n",
    "print(\"Подобранный ключ: \", ident_key)\n",
    "print(\"Вариант прочтения открытого текста: \", decr_ident_key)"
   ]
  },
  {
   "cell_type": "code",
   "execution_count": null,
   "id": "fe9f5875-f7a6-4249-bf5e-123073d26283",
   "metadata": {},
   "outputs": [],
   "source": []
  }
 ],
 "metadata": {
  "kernelspec": {
   "display_name": "Python 3",
   "language": "python",
   "name": "python3"
  },
  "language_info": {
   "codemirror_mode": {
    "name": "ipython",
    "version": 3
   },
   "file_extension": ".py",
   "mimetype": "text/x-python",
   "name": "python",
   "nbconvert_exporter": "python",
   "pygments_lexer": "ipython3",
   "version": "3.8.8"
  }
 },
 "nbformat": 4,
 "nbformat_minor": 5
}
